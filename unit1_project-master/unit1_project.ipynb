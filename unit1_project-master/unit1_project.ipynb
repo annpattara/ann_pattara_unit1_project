{
 "cells": [
  {
   "cell_type": "markdown",
   "metadata": {},
   "source": [
    "<img src=\"http://imgur.com/1ZcRyrc.png\" style=\"float: left; margin: 20px; height: 55px\">\n",
    "\n",
    "# Project 1: Python Coding Exercises\n",
    "\n",
    "_Authors: Joseph Nelson (DC) _\n",
    "\n",
    "---"
   ]
  },
  {
   "cell_type": "markdown",
   "metadata": {},
   "source": [
    "The following code challenges are drawn from common exercises used in technical interviews.\n",
    "\n",
    "Please note that there may be several ways to approach each challenge. If you get stuck, try mapping out your approach in pseudocode first. Finally, while solutions to problems like these may be found online, remember that if you copy/paste code that you can't explain, you'll be missing out on the point of the project. The only way to truly learn a new skill is through practice, trial, and error - we can only help you improve by understanding where you are having trouble."
   ]
  },
  {
   "cell_type": "markdown",
   "metadata": {},
   "source": [
    "### Challenge 1: Largest Palindrome\n",
    "A palindromic number reads the same both ways. For example, 1234321 is a palindrome. The largest palindrome made from the product of two two-digit numbers is 9009 = 91 × 99. Find the largest palindrome made from the product of two three-digit numbers. Afterward, write a brief explanation walking through your code's logic in markdown."
   ]
  },
  {
   "cell_type": "code",
   "execution_count": 1,
   "metadata": {},
   "outputs": [
    {
     "name": "stdout",
     "output_type": "stream",
     "text": [
      "906609\n"
     ]
    }
   ],
   "source": [
    "#defining a function to check if the number is palindrome\n",
    "def is_palindrome(n):\n",
    "    s = str(n)\n",
    "    #::-1 reverses a string\n",
    "    return s == s[::-1]\n",
    "\n",
    "#defining a funtion to get the largest palindrome\n",
    "def get_largest_palindrome():\n",
    "    #initializing maximum product to zero\n",
    "    max_product = 0\n",
    "    #choosing 999 since it is the largest 3 digit and assuming 900 as the\n",
    "    #initial lower bound\n",
    "    for i in range(999, 900, -1):\n",
    "        if max_product >= 999*i:\n",
    "            #to avoid unnecessary palindrome check\n",
    "            break\n",
    "        for j in range(999, i-1, -1):\n",
    "            p = j * i\n",
    "            if max_product >= p:\n",
    "                #to avoid unnecessary palindrome check\n",
    "                break\n",
    "            if is_palindrome(p):\n",
    "                max_product = p\n",
    "    return max_product\n",
    "\n",
    "ret = get_largest_palindrome()\n",
    "print(ret)"
   ]
  },
  {
   "cell_type": "markdown",
   "metadata": {},
   "source": [
    "The steps I followed. \n",
    "1. Write a function to check if a number is a palindrome\n",
    "2. Write a function to find the largest palindrome \n",
    "3. I created two sets of range, one starting from 999 to 900, in decending order (assumtion made here that the numbers will be greater than 900). The second one also starting from 999 and going in decending order\n",
    "4. The for loop would now run to find the maximum product with combinations of numbers in these 2 sets and the loop would break when the maximum number is reached.\n",
    "5. Then I would call the funtion to check if the number is a palindrome or not and if it is, it would print the largest one.\n",
    "\n"
   ]
  },
  {
   "cell_type": "markdown",
   "metadata": {},
   "source": [
    "\n",
    "### Challenge 2: Summation of Primes\n",
    "The sum of the primes below 10 is 2 + 3 + 5 + 7 = 17. Find the sum of all the primes below 2,000. Afterward, write a brief explanation walking through your code's logic in markdown."
   ]
  },
  {
   "cell_type": "code",
   "execution_count": 2,
   "metadata": {},
   "outputs": [
    {
     "name": "stdout",
     "output_type": "stream",
     "text": [
      "277050\n"
     ]
    }
   ],
   "source": [
    "numbers = list(range(2, 2000))\n",
    "#for every combination of numbers in the \"numbers\" set\n",
    "for prime in numbers:\n",
    "    for x in numbers:\n",
    "       #checking if the numbers are prime by checking if reamainder is zero \n",
    "       #and if the numbers are the same\n",
    "        if x % prime == 0 and prime != x:\n",
    "            numbers.remove(x)\n",
    "            \n",
    "print(sum(numbers))"
   ]
  },
  {
   "cell_type": "markdown",
   "metadata": {},
   "source": [
    "For every combination of the numbers in the \"numbers\" set I checked if the numbers are prime or not by checking if the division leads to a remainder zero and by making sure the numbers aren't the same. \n",
    "If the 2 conditions are met, then the numbers are not a prime number and it is removed from \"numbers\"\n",
    "Then I printed the sum of the \"number\"(which now only has prime numbers)"
   ]
  },
  {
   "cell_type": "markdown",
   "metadata": {},
   "source": [
    "### Challenge 3: Multiples of 3 and 5\n",
    "If we list all of the natural numbers below 10 that are multiples of 3 or 5, we get 3, 5, 6, and 9. The sum of these multiples is 23. Find the sum of all the multiples of 3 or 5 below 1,000. Afterward, write a brief explanation walking through your code's logic in markdown."
   ]
  },
  {
   "cell_type": "code",
   "execution_count": 3,
   "metadata": {
    "scrolled": true
   },
   "outputs": [
    {
     "name": "stdout",
     "output_type": "stream",
     "text": [
      "233168\n"
     ]
    }
   ],
   "source": [
    "#initializing the sum = 0\n",
    "total_sum = 0\n",
    "#defining the range\n",
    "for i in range(1, 1000):\n",
    "    #adding the condition for the number being divisible either by 3 or 5 and\n",
    "    #looping through the range\n",
    "    if (i % 3 == 0 or i % 5 == 0):\n",
    "        #adding the numbers in the range meeting the condition above\n",
    "        total_sum = total_sum + i\n",
    "        \n",
    "print(total_sum)"
   ]
  },
  {
   "cell_type": "markdown",
   "metadata": {},
   "source": [
    "I first defined the range 1 to 1000 and then I added the condition for the number being divisible either by 3 or 5 and looped through the range.\n",
    "If the condition was met, those numbers were added together and printed."
   ]
  },
  {
   "cell_type": "markdown",
   "metadata": {},
   "source": [
    "### Challenge 4: String Compressor\n",
    "Implement a method to perform basic string compression using the counts of repeated characters. (This is called run-length encoding.) For example, the string \"aabcccccaaa\" would become a2b1c5a3. If the “compressed” string would not become smaller than the original string, your method should return the original string. You can assume the string has only uppercase and lowercase letters (a–z). Specify whether your solution is case sensitive or case insensitive and what you would need to change to make it the other. Afterward, write a brief explanation walking through your code's logic in markdown."
   ]
  },
  {
   "cell_type": "code",
   "execution_count": 9,
   "metadata": {},
   "outputs": [
    {
     "name": "stdout",
     "output_type": "stream",
     "text": [
      "a2b1c5a3\n"
     ]
    }
   ],
   "source": [
    "input_string_test = \"aabcccccaaa\"\n",
    "\n",
    "\n",
    "#defining a function to output the compressed string\n",
    "def string_compression(input_string):\n",
    "    comp_string = \"\"\n",
    "    \n",
    "    #counter variable starting at 1\n",
    "    letter_count = 1\n",
    "    \n",
    "    #loop through the length of input string minus 1 (0-9)\n",
    "    for i in range(len(input_string)-1):\n",
    "        \n",
    "        #check whether or not the character we are looking at in the string \n",
    "        #and the next character are equal, and if they are equal, increment \n",
    "        #the counts and otherwise if they are not equalt\n",
    "        #go to the next character in the string and add to the compressed \n",
    "        #string\n",
    "        if input_string[i] == input_string[i+1]:\n",
    "            \n",
    "            #increase the count by 1\n",
    "            letter_count += 1\n",
    "            \n",
    "        else:\n",
    "            \n",
    "            #add to the compressed string converting the count to string to \n",
    "            #append it \n",
    "            comp_string += input_string[i] + str(letter_count)\n",
    "            #print(comp_string)\n",
    "            #set the count back to 1\n",
    "            letter_count = 1\n",
    "            \n",
    "    #to catch the last bit of the string\n",
    "    comp_string += input_string[i] + str(letter_count)\n",
    "     \n",
    "    # if compressed is not smaller than original\n",
    "    if len(comp_string) >= len (input_string):\n",
    "        return input_string\n",
    "    else:\n",
    "        return comp_string\n",
    "    \n",
    "print(string_compression(input_string_test))"
   ]
  },
  {
   "cell_type": "markdown",
   "metadata": {},
   "source": [
    "Steps I followed\n",
    "1. Defined a function to output the compressed string\n",
    "2. Set a counter variable starting at 1 to count the repetition of the same letter\n",
    "3. Looped through the length of input string minus 1 (0-9)\n",
    "4. With the for loop, I checked whether or not the character we are looking at in the string and the next character are equal, and if they are equal, increment the counts and otherwise if they are not equal go to the next character in the string and add to the compressed string.\n",
    "5. I added a line to catch the last bit of the string since it didn't capture that last bit\n",
    "6. Set an if condition to output the original string if the compressed string is larger than the original string.\n",
    "\n",
    "My solution was case sensitive.\n",
    "I would either add input_string_test = input_string_test.lower() or input_string_test = input_string_test.upper()on line 2 depending on what I want to do.\n",
    "\n"
   ]
  },
  {
   "cell_type": "markdown",
   "metadata": {},
   "source": [
    "### Challenge 5: FizzBuzz\n",
    "\n",
    "Write a program that prints all of the numbers from 1 to 100. For multiples of 3, instead of the number, print \"Fizz;\" for multiples of 5, print \"Buzz.\" For numbers that are multiples of both 3 and 5, print \"FizzBuzz.\" Afterward, write a brief explanation walking through your code's logic in markdown."
   ]
  },
  {
   "cell_type": "code",
   "execution_count": 11,
   "metadata": {
    "collapsed": true
   },
   "outputs": [
    {
     "name": "stdout",
     "output_type": "stream",
     "text": [
      "1\n",
      "2\n",
      "Fizz\n",
      "4\n",
      "Buzz\n",
      "Fizz\n",
      "7\n",
      "8\n",
      "Fizz\n",
      "Buzz\n",
      "11\n",
      "Fizz\n",
      "13\n",
      "14\n",
      "FizzBuzz\n",
      "16\n",
      "17\n",
      "Fizz\n",
      "19\n",
      "Buzz\n",
      "Fizz\n",
      "22\n",
      "23\n",
      "Fizz\n",
      "Buzz\n",
      "26\n",
      "Fizz\n",
      "28\n",
      "29\n",
      "FizzBuzz\n",
      "31\n",
      "32\n",
      "Fizz\n",
      "34\n",
      "Buzz\n",
      "Fizz\n",
      "37\n",
      "38\n",
      "Fizz\n",
      "Buzz\n",
      "41\n",
      "Fizz\n",
      "43\n",
      "44\n",
      "FizzBuzz\n",
      "46\n",
      "47\n",
      "Fizz\n",
      "49\n",
      "Buzz\n",
      "Fizz\n",
      "52\n",
      "53\n",
      "Fizz\n",
      "Buzz\n",
      "56\n",
      "Fizz\n",
      "58\n",
      "59\n",
      "FizzBuzz\n",
      "61\n",
      "62\n",
      "Fizz\n",
      "64\n",
      "Buzz\n",
      "Fizz\n",
      "67\n",
      "68\n",
      "Fizz\n",
      "Buzz\n",
      "71\n",
      "Fizz\n",
      "73\n",
      "74\n",
      "FizzBuzz\n",
      "76\n",
      "77\n",
      "Fizz\n",
      "79\n",
      "Buzz\n",
      "Fizz\n",
      "82\n",
      "83\n",
      "Fizz\n",
      "Buzz\n",
      "86\n",
      "Fizz\n",
      "88\n",
      "89\n",
      "FizzBuzz\n",
      "91\n",
      "92\n",
      "Fizz\n",
      "94\n",
      "Buzz\n",
      "Fizz\n",
      "97\n",
      "98\n",
      "Fizz\n"
     ]
    }
   ],
   "source": [
    "#Defining a function to identify numbers divisibly by 5, divisible by 3, and\n",
    "#divisible by both 3 and 5.\n",
    "def zzz(n):\n",
    "    #if the number is divisible by both 3 and 5, return FizzBuzz\n",
    "    if n%3==0 and n%5==0:\n",
    "        return 'FizzBuzz'\n",
    "    \n",
    "    #if the number does not meet the above condition, check if the number is \n",
    "    #divisible by 3 and if yes, return Fizz\n",
    "    elif n % 3 == 0:\n",
    "        return 'Fizz'\n",
    "\n",
    "    #if the number does not meeting either of the above condition, check if \n",
    "    #the number is divisible by 5 and if yes, return Buzz\n",
    "    elif n % 5==0:\n",
    "        return 'Buzz'\n",
    "    \n",
    "    #if it does not meet any of the above, return the numebr itself\n",
    "    else:\n",
    "        return n\n",
    "\n",
    "#defining the range to perfomr the function on and printing the result\n",
    "for n in range(1,100):\n",
    "    print(zzz(n))\n",
    "    "
   ]
  },
  {
   "cell_type": "markdown",
   "metadata": {},
   "source": [
    "Steps I followed\n",
    "1. Defined a function to identify numbers divisibly by 5, divisible by 3, and divisible by both 3 and 5.\n",
    "2. Created an if function for if the number is divisible by both 3 and 5, print FizzBuzz. If the number does not meet that condition, check if the number is divisible by 3 and if yes, return Fizz. And if the number does not meet either conditions check if the number is divisible by 5 and if yes, return Buzz. Otherwise, just return the number.\n",
    "3. Created a range to apply the function above and print the result.\n"
   ]
  }
 ],
 "metadata": {
  "anaconda-cloud": {},
  "kernelspec": {
   "display_name": "Python 3",
   "language": "python",
   "name": "python3"
  },
  "language_info": {
   "codemirror_mode": {
    "name": "ipython",
    "version": 3
   },
   "file_extension": ".py",
   "mimetype": "text/x-python",
   "name": "python",
   "nbconvert_exporter": "python",
   "pygments_lexer": "ipython3",
   "version": "3.6.5"
  }
 },
 "nbformat": 4,
 "nbformat_minor": 2
}
